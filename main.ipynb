{
 "cells": [
  {
   "attachments": {},
   "cell_type": "markdown",
   "metadata": {},
   "source": [
    "# EvalKG\n",
    "\n",
    "This is the experiment script (notebook) showing the effiectiveness of our proposed KG evaluation method. We take some already known good KGs, like FB15k-237, WN18rr, and Yago39, and create some \"worse\" versions of these KGs. Then, we will show that our proposed KG evaluation method can distinguish the good KGs from the bad ones. we are going to run 2 experiments:\n",
    "1. comparing good KGs against bad ones with incorrect triples\n",
    "2. comparing good KGs against bad ones that miss some triples\n"
   ]
  },
  {
   "cell_type": "code",
   "execution_count": 1,
   "metadata": {},
   "outputs": [],
   "source": [
    "from evaluate import eval_by_incorrect, eval_by_missing"
   ]
  },
  {
   "attachments": {},
   "cell_type": "markdown",
   "metadata": {},
   "source": [
    "## Comparing good KGs against bad ones with incorrect triples"
   ]
  },
  {
   "cell_type": "code",
   "execution_count": null,
   "metadata": {},
   "outputs": [],
   "source": [
    "kg = None\n",
    "lpmodel = None\n",
    "results_kg = eval_by_incorrect(kg, lpmodel)"
   ]
  }
 ],
 "metadata": {
  "kernelspec": {
   "display_name": "Python 3",
   "language": "python",
   "name": "python3"
  },
  "language_info": {
   "codemirror_mode": {
    "name": "ipython",
    "version": 3
   },
   "file_extension": ".py",
   "mimetype": "text/x-python",
   "name": "python",
   "nbconvert_exporter": "python",
   "pygments_lexer": "ipython3",
   "version": "3.10.4"
  },
  "orig_nbformat": 4
 },
 "nbformat": 4,
 "nbformat_minor": 2
}
