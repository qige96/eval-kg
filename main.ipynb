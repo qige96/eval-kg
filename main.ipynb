{
 "cells": [
  {
   "attachments": {},
   "cell_type": "markdown",
   "metadata": {},
   "source": [
    "# EvalKG\n",
    "\n",
    "This is the experiment script (notebook) showing the effiectiveness of our proposed KG evaluation method. We take some already known good KGs, like FB15k-237, WN18rr, and Yago39, and create some \"worse\" versions of these KGs. Then, we will show that our proposed KG evaluation method can distinguish the good KGs from the bad ones. we are going to run 2 experiments:\n",
    "1. comparing good KGs against bad ones with incorrect triples\n",
    "2. comparing good KGs against bad ones that miss some triples\n"
   ]
  },
  {
   "cell_type": "code",
   "execution_count": 27,
   "metadata": {},
   "outputs": [],
   "source": [
    "import random\n",
    "from evaluate import eval_by_incorrect, eval_by_missing"
   ]
  },
  {
   "attachments": {},
   "cell_type": "markdown",
   "metadata": {},
   "source": [
    "## Comparing good KGs against bad ones with incorrect triples"
   ]
  },
  {
   "cell_type": "code",
   "execution_count": 43,
   "metadata": {},
   "outputs": [],
   "source": [
    "import numpy as np\n",
    "import tensorflow as tf\n",
    "from ampligraph.datasets import load_fb15k, load_fb13, load_wn11, load_fb15k_237\n",
    "from ampligraph.evaluation import (generate_corruptions_for_fit,    \n",
    "                                    generate_corruptions_for_eval,\n",
    "                                    to_idx, create_mappings)\n",
    "                                    "
   ]
  },
  {
   "cell_type": "code",
   "execution_count": 44,
   "metadata": {},
   "outputs": [],
   "source": [
    "# fb15k = load_fb15k()\n",
    "# fb13 = load_fb13()\n",
    "# wn11 = load_wn11()\n",
    "fb15k237 = load_fb15k_237()"
   ]
  },
  {
   "cell_type": "code",
   "execution_count": 46,
   "metadata": {},
   "outputs": [
    {
     "data": {
      "text/plain": [
       "(array([['/m/027rn', '/location/country/form_of_government', '/m/06cx9'],\n",
       "        ['/m/017dcd',\n",
       "         '/tv/tv_program/regular_cast./tv/regular_tv_appearance/actor',\n",
       "         '/m/06v8s0'],\n",
       "        ['/m/07s9rl0', '/media_common/netflix_genre/titles', '/m/0170z3'],\n",
       "        ...,\n",
       "        ['/m/0djvzd',\n",
       "         '/soccer/football_player/current_team./sports/sports_team_roster/team',\n",
       "         '/m/02b16p'],\n",
       "        ['/m/0gmblvq',\n",
       "         '/award/award_winning_work/awards_won./award/award_honor/award',\n",
       "         '/m/07kjk7c'],\n",
       "        ['/m/020jqv',\n",
       "         '/award/award_nominee/award_nominations./award/award_nomination/nominated_for',\n",
       "         '/m/09d3b7']], dtype=object),\n",
       " array([['/m/07pd_j', '/film/film/genre', '/m/02l7c8'],\n",
       "        ['/m/06wxw', '/location/location/time_zones', '/m/02fqwt'],\n",
       "        ['/m/01t94_1',\n",
       "         '/people/person/spouse_s./people/marriage/type_of_union',\n",
       "         '/m/04ztj'],\n",
       "        ...,\n",
       "        ['/m/01j4ls', '/common/topic/webpage./common/webpage/category',\n",
       "         '/m/08mbj5d'],\n",
       "        ['/m/0cmdwwg',\n",
       "         '/film/film/release_date_s./film/film_regional_release_date/film_release_region',\n",
       "         '/m/06t2t'],\n",
       "        ['/m/0gs6vr', '/film/actor/film./film/performance/film',\n",
       "         '/m/0gj96ln']], dtype=object),\n",
       " array([['/m/08966',\n",
       "         '/travel/travel_destination/climate./travel/travel_destination_monthly_climate/month',\n",
       "         '/m/05lf_'],\n",
       "        ['/m/01hww_',\n",
       "         '/music/performance_role/regular_performances./music/group_membership/group',\n",
       "         '/m/01q99h'],\n",
       "        ['/m/09v3jyg',\n",
       "         '/film/film/release_date_s./film/film_regional_release_date/film_release_region',\n",
       "         '/m/0f8l9c'],\n",
       "        ...,\n",
       "        ['/m/0p5mw',\n",
       "         '/music/artist/contribution./music/recording_contribution/performance_role',\n",
       "         '/m/06w87'],\n",
       "        ['/m/0727h',\n",
       "         '/military/military_conflict/combatants./military/military_combatant_group/combatants',\n",
       "         '/m/0bk25'],\n",
       "        ['/m/050r1z',\n",
       "         '/film/film/other_crew./film/film_crew_gig/film_crew_role',\n",
       "         '/m/0ch6mp2']], dtype=object))"
      ]
     },
     "execution_count": 46,
     "metadata": {},
     "output_type": "execute_result"
    }
   ],
   "source": [
    "(fb15k237['train'], fb15k237['valid'], fb15k237['test'])"
   ]
  },
  {
   "cell_type": "code",
   "execution_count": 45,
   "metadata": {},
   "outputs": [
    {
     "data": {
      "text/plain": [
       "dict_keys(['train', 'valid', 'test'])"
      ]
     },
     "execution_count": 45,
     "metadata": {},
     "output_type": "execute_result"
    }
   ],
   "source": [
    "fb15k237.keys()"
   ]
  },
  {
   "cell_type": "code",
   "execution_count": 32,
   "metadata": {},
   "outputs": [],
   "source": [
    "trps = np.array(random.sample(fb15k['train'].tolist(), int(len(fb15k['train'])*0.1)))\n",
    "rel_to_idx, ent_to_idx = create_mappings(trps)\n",
    "id_trps = to_idx(trps, ent_to_idx, rel_to_idx).astype(np.int32)\n",
    "neg = generate_corruptions_for_fit(id_trps)\n"
   ]
  },
  {
   "cell_type": "code",
   "execution_count": 39,
   "metadata": {},
   "outputs": [
    {
     "name": "stderr",
     "output_type": "stream",
     "text": [
      "2023-04-05 20:14:41.073634: I tensorflow/core/platform/cpu_feature_guard.cc:142] Your CPU supports instructions that this TensorFlow binary was not compiled to use: AVX2 FMA\n",
      "2023-04-05 20:14:41.111102: I tensorflow/core/platform/profile_utils/cpu_utils.cc:94] CPU Frequency: 1999965000 Hz\n",
      "2023-04-05 20:14:41.111532: I tensorflow/compiler/xla/service/service.cc:168] XLA service 0x55a772bd9b10 initialized for platform Host (this does not guarantee that XLA will be used). Devices:\n",
      "2023-04-05 20:14:41.111554: I tensorflow/compiler/xla/service/service.cc:176]   StreamExecutor device (0): Host, Default Version\n"
     ]
    },
    {
     "data": {
      "text/plain": [
       "array([[ 9852,   798,  8779],\n",
       "       [ 1618,   396,    37],\n",
       "       [ 2478,    37,  6652],\n",
       "       ...,\n",
       "       [10261,   535, 12516],\n",
       "       [ 8806,    42,  3906],\n",
       "       [  708,   279,  5049]], dtype=int32)"
      ]
     },
     "execution_count": 39,
     "metadata": {},
     "output_type": "execute_result"
    }
   ],
   "source": [
    "neg.eval(session=tf.Session())"
   ]
  },
  {
   "cell_type": "code",
   "execution_count": 30,
   "metadata": {},
   "outputs": [
    {
     "data": {
      "text/plain": [
       "list"
      ]
     },
     "execution_count": 30,
     "metadata": {},
     "output_type": "execute_result"
    }
   ],
   "source": [
    "type(fb15k['train'].tolist())"
   ]
  },
  {
   "cell_type": "code",
   "execution_count": null,
   "metadata": {},
   "outputs": [],
   "source": [
    "kg = None\n",
    "lpmodel = None\n",
    "results_kg = eval_by_incorrect(kg, lpmodel)"
   ]
  }
 ],
 "metadata": {
  "kernelspec": {
   "display_name": "Python 3",
   "language": "python",
   "name": "python3"
  },
  "language_info": {
   "codemirror_mode": {
    "name": "ipython",
    "version": 3
   },
   "file_extension": ".py",
   "mimetype": "text/x-python",
   "name": "python",
   "nbconvert_exporter": "python",
   "pygments_lexer": "ipython3",
   "version": "3.7.13"
  },
  "orig_nbformat": 4
 },
 "nbformat": 4,
 "nbformat_minor": 2
}
